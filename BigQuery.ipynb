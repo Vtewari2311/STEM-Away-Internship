{
  "nbformat": 4,
  "nbformat_minor": 0,
  "metadata": {
    "colab": {
      "name": "BigQuery.ipynb",
      "provenance": [],
      "collapsed_sections": []
    },
    "kernelspec": {
      "name": "python3",
      "display_name": "Python 3"
    },
    "language_info": {
      "name": "python"
    }
  },
  "cells": [
    {
      "cell_type": "code",
      "execution_count": null,
      "metadata": {
        "id": "ldTQZQEYR7Lv"
      },
      "outputs": [],
      "source": [
        "# Set up feedback system\n",
        "from learntools.core import binder\n",
        "binder.bind(globals())\n",
        "from learntools.sql_advanced.ex1 import *\n",
        "print(\"Setup Complete\")"
      ]
    },
    {
      "cell_type": "markdown",
      "source": [
        "The code cell below fetches the posts_questions table from the stackoverflow dataset. We also preview the first five rows of the table."
      ],
      "metadata": {
        "id": "7Tk588ppSFP7"
      }
    },
    {
      "cell_type": "code",
      "source": [
        "from google.cloud import bigquery\n",
        "\n",
        "# Create a \"Client\" object\n",
        "client = bigquery.Client()\n",
        "\n",
        "# Construct a reference to the \"stackoverflow\" dataset\n",
        "dataset_ref = client.dataset(\"stackoverflow\", project=\"bigquery-public-data\")\n",
        "\n",
        "# API request - fetch the dataset\n",
        "dataset = client.get_dataset(dataset_ref)\n",
        "\n",
        "# Construct a reference to the \"posts_questions\" table\n",
        "table_ref = dataset_ref.table(\"posts_questions\")\n",
        "\n",
        "# API request - fetch the table\n",
        "table = client.get_table(table_ref)\n",
        "\n",
        "# Preview the first five lines of the table\n",
        "df1=client.list_rows(table, max_results=10000).to_dataframe()"
      ],
      "metadata": {
        "id": "B3GWMDOxSKj0"
      },
      "execution_count": null,
      "outputs": []
    },
    {
      "cell_type": "code",
      "source": [
        "len(df1)"
      ],
      "metadata": {
        "id": "hRtK_UAwSReq"
      },
      "execution_count": null,
      "outputs": []
    },
    {
      "cell_type": "code",
      "source": [
        "df1.to_csv('Questions.csv', index = False)"
      ],
      "metadata": {
        "id": "5P6IDQbdSVai"
      },
      "execution_count": null,
      "outputs": []
    },
    {
      "cell_type": "markdown",
      "source": [
        "We also take a look at the posts_answers table."
      ],
      "metadata": {
        "id": "seG-Hg-ISY8r"
      }
    },
    {
      "cell_type": "code",
      "source": [
        "# Construct a reference to the \"posts_answers\" table\n",
        "table_ref = dataset_ref.table(\"posts_answers\")\n",
        "\n",
        "# API request - fetch the table\n",
        "table = client.get_table(table_ref)\n",
        "\n",
        "# Preview the first five lines of the table\n",
        "df2=client.list_rows(table, max_results=10000).to_dataframe()"
      ],
      "metadata": {
        "id": "_FsSsAcgSZg7"
      },
      "execution_count": null,
      "outputs": []
    },
    {
      "cell_type": "code",
      "source": [
        "df2.to_csv('Answers.csv', index = False)"
      ],
      "metadata": {
        "id": "6b7g1vvySfgz"
      },
      "execution_count": null,
      "outputs": []
    }
  ]
}